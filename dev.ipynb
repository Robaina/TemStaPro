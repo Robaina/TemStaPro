{
 "cells": [
  {
   "cell_type": "code",
   "execution_count": null,
   "metadata": {},
   "outputs": [],
   "source": [
    "%%bash\n",
    "mkdir -p output\n",
    "docker run --rm \\",
    "    --gpus all \\",
    "    -v $(pwd)/models:/app/models \\",
    "    -v $(pwd)/tests/data:/app/data \\",
    "    -v $(pwd)/output:/app/output \\",
    "    temstapro:latest \\",
    "    /app/models \\",
    "    --fasta-file /app/data/multiple_sequences.fasta \\",
    "    --embeddings-output-path /app/output/ \\",
    "    --mean-output-file /app/output/mean.tmp \\",
    "    --per-residue-output-file /app/output/per_res.tmp"
   ]
  }
 ],
 "metadata": {
  "kernelspec": {
   "display_name": "Python 3",
   "language": "python",
   "name": "python3"
  },
  "language_info": {
   "codemirror_mode": {
    "name": "ipython",
    "version": 3
   },
   "file_extension": ".py",
   "mimetype": "text/x-python",
   "name": "python",
   "nbconvert_exporter": "python",
   "pygments_lexer": "ipython3",
   "version": "3.8.10"
  }
 },
 "nbformat": 4,
 "nbformat_minor": 4
}