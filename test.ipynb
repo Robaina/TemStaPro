{
 "cells": [
  {
   "cell_type": "code",
   "execution_count": null,
   "metadata": {},
   "outputs": [
    {
     "name": "stdout",
     "output_type": "stream",
     "text": [
      "Checking CUDA availability...\n",
      "CUDA available: True\n",
      "CUDA devices: 1\n"
     ]
    },
    {
     "name": "stderr",
     "output_type": "stream",
     "text": [
      "2025-07-17 14:36:50.668502: beginning to load the model \n",
      "2025-07-17 14:37:05.538953: finished loading the model\n",
      "2025-07-17 14:37:05.539165: beginning to generate embeddings\n",
      "Portion 1.\n",
      "1/1: sequences with generated mean embeddings\n",
      "1/1: sequences with generated per-residue embeddings\n",
      "0:00:00.884570: time to generate embeddings\n",
      "0:00:00.884570: time to generate embeddings per protein\n",
      "2025-07-17 14:37:08.154095: beginning to make inferences\n",
      "2025-07-17 14:37:10.193223: finished making inferences\n"
     ]
    },
    {
     "name": "stdout",
     "output_type": "stream",
     "text": [
      "protein_id\tposition\tsequence\tlength\tt40_binary\tt40_raw\tt45_binary\tt45_raw\tt50_binary\tt50_raw\tt55_binary\tt55_raw\tt60_binary\tt60_raw\tt65_binary\tt65_raw\tleft_hand_label\tright_hand_label\tclash\n",
      "artificial_sequence\t-\tUUUUUUUUUUUUUUUUUUUUUUUUUUUUUUUUUUUUUUUUUUUUUUUUUUUUUUUUUUUUUUUUUUUUUUUUUUUUUUUOOOOOOOOOOOOOOOOOOOOOOOOOOOOOOOOOOOOOOOOOOOOOOOOOOOOOOOOOOOOOOOOOOOOOOOOOOOOOOO\t158\t1\t9.803e-01\t1\t6.874e-01\t1\t6.388e-01\t1\t7.543e-01\t0\t3.063e-01\t0\t1.685e-03\t[55-60)\t[55-60)\t-\n"
     ]
    }
   ],
   "source": [
    "%%bash\n",
    "\n",
    "docker run --rm --gpus all \\\n",
    "  -v /home/ubuntu/lab4/TemStaPro/ProtTrans:/models \\\n",
    "  -v /home/ubuntu/lab4/TemStaPro/tests/data:/test_data \\\n",
    "  -v /home/ubuntu/lab4/TemStaPro/tests/outputs:/outputs \\\n",
    "  ghcr.io/robaina/protscout-tools-temstapro:latest \\\n",
    "  /models \\\n",
    "  -f /test_data/replaced_symbol_sequence.fasta \\\n",
    "  -e /outputs/docker_test_001 \\\n",
    "  -p /outputs/docker_test_001 --per-res-output /outputs/docker_test_001/docker_test_001_predictions_per_res.tsv"
   ]
  },
  {
   "cell_type": "code",
   "execution_count": 11,
   "metadata": {},
   "outputs": [
    {
     "name": "stdout",
     "output_type": "stream",
     "text": [
      "Checking CUDA availability...\n",
      "CUDA available: True\n",
      "CUDA devices: 1\n"
     ]
    },
    {
     "name": "stderr",
     "output_type": "stream",
     "text": [
      "2025-07-17 14:58:54.601372: beginning to load the model \n",
      "2025-07-17 14:59:09.625870: finished loading the model\n",
      "2025-07-17 14:59:09.625899: beginning to generate embeddings\n",
      "Portion 1.\n",
      "3/3: sequences with generated mean embeddings\n",
      "0/3: sequences with generated per-residue embeddings\n",
      "0:00:02.014223: time to generate embeddings\n",
      "0:00:00.671408: time to generate embeddings per protein\n",
      "2025-07-17 14:59:11.640582: beginning to make inferences\n",
      "2025-07-17 14:59:12.273911: finished making inferences\n"
     ]
    }
   ],
   "source": [
    "%%bash\n",
    "\n",
    "docker run --rm --gpus all \\\n",
    "  -v /home/ubuntu/lab4/TemStaPro/ProtTrans:/models \\\n",
    "  -v /home/ubuntu/lab4/TemStaPro/tests/data:/test_data \\\n",
    "  -v /home/ubuntu/lab4/TemStaPro/tests/outputs:/outputs \\\n",
    "  ghcr.io/robaina/protscout-tools-temstapro:latest \\\n",
    "  /models \\\n",
    "  -f /test_data/multiple_sequences.fasta \\\n",
    "  -p /outputs/docker_test_002 --mean-output /outputs/docker_test_002/docker_test_002_predictions_mean.tsv"
   ]
  },
  {
   "cell_type": "code",
   "execution_count": 10,
   "metadata": {},
   "outputs": [
    {
     "name": "stdout",
     "output_type": "stream",
     "text": [
      "Usage: temstapro [options]\n",
      "\n",
      "Options:\n",
      "  -h, --help            show this help message and exit\n",
      "  -f FASTA, --input-fasta=FASTA\n",
      "                        path to the input FASTA file.\n",
      "  -e EMB_DIR, --embeddings-dir=EMB_DIR\n",
      "                        path to the directory to which embeddings files will\n",
      "                        be saved (cache).\n",
      "  -d PT_DIR, --PT-directory=PT_DIR\n",
      "                        path to the directory of ProtTrans model.\n",
      "  -t TSP_DIR, --temstapro-directory=TSP_DIR\n",
      "                        path to the directory of TemStaPro program with its\n",
      "                        dependencies.\n",
      "  --more-thresholds     option for the mode that outputs additional\n",
      "                        predictions for upper temperature thresholds and the\n",
      "                        thremophilicity label\n",
      "  --mean-output=MEAN_OUT\n",
      "                        path to the output TSV file with mean predictions.\n",
      "                        Predictions made from the mean embeddings are always\n",
      "                        printed to STDOUT. If this option is given, the output\n",
      "                        is directed to the given file\n",
      "  --per-res-output=PER_RES_OUT\n",
      "                        path to the output TSV file with per-residue\n",
      "                        predictions.\n",
      "  --per-segment-output=PER_SEGMENT_OUT\n",
      "                        path to the output TSV file with per-residue\n",
      "                        predictions made for each segment of the sequence.\n",
      "  --segment-size=SEGMENT_SIZE\n",
      "                        option to set the window size for average smoothening\n",
      "                        of per residue embeddings ('per-segment-output'\n",
      "                        option). Default: 41.\n",
      "  -w WINDOW_SIZE_PREDICTIONS, --window-size-predictions=WINDOW_SIZE_PREDICTIONS\n",
      "                        option to set the window size for average smoothening\n",
      "                        of per residue predictions for plotting (option for\n",
      "                        'per-res-output' and 'per-segment-output'). Default:\n",
      "                        81.\n",
      "  -p PLOT_DIR, --per-residue-plot-dir=PLOT_DIR\n",
      "                        path to the directory to which inferences plots will\n",
      "                        be saved (option for 'per-res-output' and 'per-res-\n",
      "                        segment-output' modes. Default: './'.\n",
      "  -c, --curve-smoothening\n",
      "                        option for 'per-segment-output' run mode, which\n",
      "                        adjusts the plot by making an additional smoothening\n",
      "                        of the curve.\n",
      "  --portion-size=PORTION_SIZE\n",
      "                        option to set the portions', into which to divide the\n",
      "                        input of sequences, maximum size. If no division is\n",
      "                        needed, set the option to 0. Default: 1000.\n",
      "  -v, --version         print version of the program and exit.\n"
     ]
    }
   ],
   "source": [
    "%%bash\n",
    "\n",
    "./temstapro -h"
   ]
  }
 ],
 "metadata": {
  "kernelspec": {
   "display_name": "proteus",
   "language": "python",
   "name": "python3"
  },
  "language_info": {
   "codemirror_mode": {
    "name": "ipython",
    "version": 3
   },
   "file_extension": ".py",
   "mimetype": "text/x-python",
   "name": "python",
   "nbconvert_exporter": "python",
   "pygments_lexer": "ipython3",
   "version": "3.10.13"
  }
 },
 "nbformat": 4,
 "nbformat_minor": 2
}
