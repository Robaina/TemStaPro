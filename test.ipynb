{
 "cells": [
  {
   "cell_type": "code",
   "execution_count": null,
   "metadata": {},
   "outputs": [],
   "source": [
    "%%bash\n",
    "\n",
    "docker run --gpus all \\\n",
    "  -e MODEL_DIR=/model \\\n",
    "  -v /path/to/protT5_model:/model \\\n",
    "  -v /path/to/input.fasta:/data/input.fasta \\\n",
    "  -v /path/to/outputs:/data/outputs \\\n",
    "  ghcr.io/new-atlantis-labs/temstapro:latest \\\n",
    "  --input-fasta /data/input.fasta \\\n",
    "  --embeddings-dir /data/outputs/embeddings_cache \\\n",
    "  --mean-output /data/outputs/predictions.tsv\n"
   ]
  }
 ],
 "metadata": {
  "kernelspec": {
   "display_name": "protscout",
   "language": "python",
   "name": "python3"
  },
  "language_info": {
   "name": "python",
   "version": "3.13.2"
  }
 },
 "nbformat": 4,
 "nbformat_minor": 2
}
